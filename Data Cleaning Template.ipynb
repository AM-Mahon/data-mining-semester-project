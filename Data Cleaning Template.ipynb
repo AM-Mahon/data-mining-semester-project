{
 "cells": [
  {
   "cell_type": "markdown",
   "id": "82864ccd",
   "metadata": {},
   "source": [
    "import statements and data you need"
   ]
  },
  {
   "cell_type": "code",
   "execution_count": null,
   "id": "566746a8",
   "metadata": {},
   "outputs": [],
   "source": [
    "import numpy as np\n",
    "import pandas as pd\n",
    "import matplotlib.pylab as plt\n",
    "%matplotlib inline\n",
    "\n",
    "# Path to the data - select the path that works for you \n",
    "file_path = '../data-mining-semester-project/data/clean_titanic_data.csv'\n",
    "\n",
    "# Load the data into a DataFrame \n",
    "df = pd.read_csv(file_path)"
   ]
  },
  {
   "cell_type": "code",
   "execution_count": null,
   "id": "b890c974",
   "metadata": {},
   "outputs": [],
   "source": []
  }
 ],
 "metadata": {
  "kernelspec": {
   "display_name": "Python 3",
   "language": "python",
   "name": "python3"
  },
  "language_info": {
   "codemirror_mode": {
    "name": "ipython",
    "version": 3
   },
   "file_extension": ".py",
   "mimetype": "text/x-python",
   "name": "python",
   "nbconvert_exporter": "python",
   "pygments_lexer": "ipython3",
   "version": "3.8.8"
  }
 },
 "nbformat": 4,
 "nbformat_minor": 5
}
